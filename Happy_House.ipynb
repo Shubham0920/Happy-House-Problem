{
  "nbformat": 4,
  "nbformat_minor": 0,
  "metadata": {
    "colab": {
      "name": "Happy House.ipynb",
      "provenance": []
    },
    "kernelspec": {
      "name": "python3",
      "display_name": "Python 3"
    }
  },
  "cells": [
    {
      "cell_type": "code",
      "metadata": {
        "id": "KKazH5GEowQ5",
        "colab": {
          "base_uri": "https://localhost:8080/"
        },
        "outputId": "35ffd3b3-f132-4190-944a-3674e52c8995"
      },
      "source": [
        "import numpy as np\n",
        "from keras import layers\n",
        "from keras.layers import Input, Add, Dense, Activation, ZeroPadding2D, BatchNormalization, Flatten, Conv2D, AveragePooling2D, MaxPooling2D, GlobalMaxPooling2D,Dropout\n",
        "from keras.models import Model, load_model\n",
        "from keras.preprocessing import image\n",
        "from keras import Sequential\n",
        "from keras.utils import layer_utils\n",
        "from keras.utils.data_utils import get_file\n",
        "from keras.applications.imagenet_utils import preprocess_input\n",
        "import pydot\n",
        "from IPython.display import SVG\n",
        "from keras.utils.vis_utils import model_to_dot\n",
        "from keras.utils import plot_model\n",
        "from keras.initializers import glorot_uniform\n",
        "import scipy.misc\n",
        "from matplotlib.pyplot import imshow\n",
        "%matplotlib inline\n",
        "import h5py\n",
        "\n",
        "import keras.backend as K\n",
        "K.set_image_data_format('channels_last')\n",
        "K.set_learning_phase(1)"
      ],
      "execution_count": 25,
      "outputs": [
        {
          "output_type": "stream",
          "text": [
            "/usr/local/lib/python3.7/dist-packages/tensorflow/python/keras/backend.py:434: UserWarning: `tf.keras.backend.set_learning_phase` is deprecated and will be removed after 2020-10-11. To update it, simply pass a True/False value to the `training` argument of the `__call__` method of your layer or model.\n",
            "  warnings.warn('`tf.keras.backend.set_learning_phase` is deprecated and '\n"
          ],
          "name": "stderr"
        }
      ]
    },
    {
      "cell_type": "code",
      "metadata": {
        "id": "3W0-nue-qHf3"
      },
      "source": [
        "def load_dataset():\n",
        "    train_dataset = h5py.File('train_happy.h5', \"r\")\n",
        "    train_set_x_orig = np.array(train_dataset[\"train_set_x\"][:]) # your train set features\n",
        "    train_set_y_orig = np.array(train_dataset[\"train_set_y\"][:]) # your train set labels\n",
        "\n",
        "    test_dataset = h5py.File('test_happy.h5', \"r\")\n",
        "    test_set_x_orig = np.array(test_dataset[\"test_set_x\"][:]) # your test set features\n",
        "    test_set_y_orig = np.array(test_dataset[\"test_set_y\"][:]) # your test set labels\n",
        "\n",
        "    classes = np.array(test_dataset[\"list_classes\"][:]) # the list of classes\n",
        "    \n",
        "    train_set_y_orig = train_set_y_orig.reshape((1, train_set_y_orig.shape[0]))\n",
        "    test_set_y_orig = test_set_y_orig.reshape((1, test_set_y_orig.shape[0]))\n",
        "    \n",
        "    return train_set_x_orig, train_set_y_orig, test_set_x_orig, test_set_y_orig, classes\n"
      ],
      "execution_count": 2,
      "outputs": []
    },
    {
      "cell_type": "code",
      "metadata": {
        "colab": {
          "base_uri": "https://localhost:8080/"
        },
        "id": "36tRz6ESD5QV",
        "outputId": "9278f742-7be1-437d-f4a5-6e417ff77bb5"
      },
      "source": [
        "X_train_orig, Y_train_orig, X_test_orig, Y_test_orig, classes = load_dataset()\n",
        "\n",
        "# Normalize image vectors\n",
        "X_train = X_train_orig/255.\n",
        "X_test = X_test_orig/255.\n",
        "\n",
        "# Reshape\n",
        "Y_train = Y_train_orig.T\n",
        "Y_test = Y_test_orig.T\n",
        "\n",
        "print (\"number of training examples = \" + str(X_train.shape[0]))\n",
        "print (\"number of test examples = \" + str(X_test.shape[0]))\n",
        "print (\"X_train shape: \" + str(X_train.shape))\n",
        "print (\"Y_train shape: \" + str(Y_train.shape))\n",
        "print (\"X_test shape: \" + str(X_test.shape))\n",
        "print (\"Y_test shape: \" + str(Y_test.shape))"
      ],
      "execution_count": 4,
      "outputs": [
        {
          "output_type": "stream",
          "text": [
            "number of training examples = 600\n",
            "number of test examples = 150\n",
            "X_train shape: (600, 64, 64, 3)\n",
            "Y_train shape: (600, 1)\n",
            "X_test shape: (150, 64, 64, 3)\n",
            "Y_test shape: (150, 1)\n"
          ],
          "name": "stdout"
        }
      ]
    },
    {
      "cell_type": "code",
      "metadata": {
        "id": "gllgx0_dD80t"
      },
      "source": [
        "#create model\n",
        "model = Sequential()\n",
        "#add model layers\n",
        "model.add(Conv2D(32, kernel_size=7, padding = \"same\", input_shape=(64,64,3)))\n",
        "model.add(BatchNormalization())\n",
        "model.add(Activation(\"relu\"))\n",
        "model.add(MaxPooling2D(pool_size=(2, 2)))\n",
        "model.add(Flatten())\n",
        "model.add(Dense(1, activation='sigmoid'))"
      ],
      "execution_count": 29,
      "outputs": []
    },
    {
      "cell_type": "code",
      "metadata": {
        "colab": {
          "base_uri": "https://localhost:8080/"
        },
        "id": "HfVMjtMNE3f_",
        "outputId": "55b2f92e-c5c8-43ee-cd9c-1fcaeb08f10c"
      },
      "source": [
        "model.summary()"
      ],
      "execution_count": 30,
      "outputs": [
        {
          "output_type": "stream",
          "text": [
            "Model: \"sequential_4\"\n",
            "_________________________________________________________________\n",
            "Layer (type)                 Output Shape              Param #   \n",
            "=================================================================\n",
            "conv2d_11 (Conv2D)           (None, 64, 64, 32)        4736      \n",
            "_________________________________________________________________\n",
            "batch_normalization_7 (Batch (None, 64, 64, 32)        128       \n",
            "_________________________________________________________________\n",
            "activation_9 (Activation)    (None, 64, 64, 32)        0         \n",
            "_________________________________________________________________\n",
            "max_pooling2d_9 (MaxPooling2 (None, 32, 32, 32)        0         \n",
            "_________________________________________________________________\n",
            "flatten_6 (Flatten)          (None, 32768)             0         \n",
            "_________________________________________________________________\n",
            "dense_12 (Dense)             (None, 1)                 32769     \n",
            "=================================================================\n",
            "Total params: 37,633\n",
            "Trainable params: 37,569\n",
            "Non-trainable params: 64\n",
            "_________________________________________________________________\n"
          ],
          "name": "stdout"
        }
      ]
    },
    {
      "cell_type": "code",
      "metadata": {
        "id": "hyf1HrJtE3iK"
      },
      "source": [
        "\n",
        "model.compile(optimizer='adam', loss='binary_crossentropy', metrics=['accuracy'])"
      ],
      "execution_count": 31,
      "outputs": []
    },
    {
      "cell_type": "code",
      "metadata": {
        "colab": {
          "base_uri": "https://localhost:8080/"
        },
        "id": "8EVrCVHeE3kT",
        "outputId": "fc1c1dda-4c02-4320-8df6-373b75e91cc8"
      },
      "source": [
        "model.fit(X_train, Y_train, validation_data=(X_test, Y_test), epochs=100)"
      ],
      "execution_count": 32,
      "outputs": [
        {
          "output_type": "stream",
          "text": [
            "Epoch 1/100\n",
            "19/19 [==============================] - 4s 205ms/step - loss: 3.1893 - accuracy: 0.5151 - val_loss: 0.7374 - val_accuracy: 0.6133\n",
            "Epoch 2/100\n",
            "19/19 [==============================] - 4s 194ms/step - loss: 0.4996 - accuracy: 0.7978 - val_loss: 0.5649 - val_accuracy: 0.6467\n",
            "Epoch 3/100\n",
            "19/19 [==============================] - 4s 194ms/step - loss: 0.2046 - accuracy: 0.9143 - val_loss: 0.5453 - val_accuracy: 0.6800\n",
            "Epoch 4/100\n",
            "19/19 [==============================] - 4s 193ms/step - loss: 0.1620 - accuracy: 0.9383 - val_loss: 0.4452 - val_accuracy: 0.7933\n",
            "Epoch 5/100\n",
            "19/19 [==============================] - 4s 194ms/step - loss: 0.1400 - accuracy: 0.9535 - val_loss: 0.4197 - val_accuracy: 0.7933\n",
            "Epoch 6/100\n",
            "19/19 [==============================] - 4s 194ms/step - loss: 0.1000 - accuracy: 0.9655 - val_loss: 0.3844 - val_accuracy: 0.7933\n",
            "Epoch 7/100\n",
            "19/19 [==============================] - 4s 193ms/step - loss: 0.1505 - accuracy: 0.9299 - val_loss: 0.3573 - val_accuracy: 0.8000\n",
            "Epoch 8/100\n",
            "19/19 [==============================] - 4s 193ms/step - loss: 0.0715 - accuracy: 0.9728 - val_loss: 0.3110 - val_accuracy: 0.9267\n",
            "Epoch 9/100\n",
            "19/19 [==============================] - 4s 195ms/step - loss: 0.0774 - accuracy: 0.9814 - val_loss: 0.2987 - val_accuracy: 0.8600\n",
            "Epoch 10/100\n",
            "19/19 [==============================] - 4s 193ms/step - loss: 0.0495 - accuracy: 0.9837 - val_loss: 0.2718 - val_accuracy: 0.8933\n",
            "Epoch 11/100\n",
            "19/19 [==============================] - 4s 193ms/step - loss: 0.0482 - accuracy: 0.9870 - val_loss: 0.3056 - val_accuracy: 0.8800\n",
            "Epoch 12/100\n",
            "19/19 [==============================] - 4s 195ms/step - loss: 0.0515 - accuracy: 0.9896 - val_loss: 0.2561 - val_accuracy: 0.8933\n",
            "Epoch 13/100\n",
            "19/19 [==============================] - 4s 194ms/step - loss: 0.0742 - accuracy: 0.9751 - val_loss: 0.2370 - val_accuracy: 0.9400\n",
            "Epoch 14/100\n",
            "19/19 [==============================] - 4s 193ms/step - loss: 0.0419 - accuracy: 0.9866 - val_loss: 0.2213 - val_accuracy: 0.9200\n",
            "Epoch 15/100\n",
            "19/19 [==============================] - 4s 196ms/step - loss: 0.0416 - accuracy: 0.9874 - val_loss: 0.1955 - val_accuracy: 0.9467\n",
            "Epoch 16/100\n",
            "19/19 [==============================] - 4s 196ms/step - loss: 0.0443 - accuracy: 0.9855 - val_loss: 0.2897 - val_accuracy: 0.8800\n",
            "Epoch 17/100\n",
            "19/19 [==============================] - 4s 193ms/step - loss: 0.0860 - accuracy: 0.9764 - val_loss: 0.1695 - val_accuracy: 0.9600\n",
            "Epoch 18/100\n",
            "19/19 [==============================] - 4s 195ms/step - loss: 0.0362 - accuracy: 0.9939 - val_loss: 0.1445 - val_accuracy: 0.9600\n",
            "Epoch 19/100\n",
            "19/19 [==============================] - 4s 195ms/step - loss: 0.0773 - accuracy: 0.9665 - val_loss: 0.1999 - val_accuracy: 0.9200\n",
            "Epoch 20/100\n",
            "19/19 [==============================] - 4s 195ms/step - loss: 0.0336 - accuracy: 0.9885 - val_loss: 0.9595 - val_accuracy: 0.6667\n",
            "Epoch 21/100\n",
            "19/19 [==============================] - 4s 196ms/step - loss: 0.0366 - accuracy: 0.9961 - val_loss: 0.3789 - val_accuracy: 0.8067\n",
            "Epoch 22/100\n",
            "19/19 [==============================] - 4s 193ms/step - loss: 0.0367 - accuracy: 0.9854 - val_loss: 0.2107 - val_accuracy: 0.9000\n",
            "Epoch 23/100\n",
            "19/19 [==============================] - 4s 196ms/step - loss: 0.0510 - accuracy: 0.9850 - val_loss: 0.1465 - val_accuracy: 0.9667\n",
            "Epoch 24/100\n",
            "19/19 [==============================] - 4s 197ms/step - loss: 0.0216 - accuracy: 0.9951 - val_loss: 0.3560 - val_accuracy: 0.8733\n",
            "Epoch 25/100\n",
            "19/19 [==============================] - 4s 194ms/step - loss: 0.0346 - accuracy: 0.9887 - val_loss: 0.1976 - val_accuracy: 0.9200\n",
            "Epoch 26/100\n",
            "19/19 [==============================] - 4s 194ms/step - loss: 0.0321 - accuracy: 0.9876 - val_loss: 0.1873 - val_accuracy: 0.9200\n",
            "Epoch 27/100\n",
            "19/19 [==============================] - 4s 195ms/step - loss: 0.0364 - accuracy: 0.9824 - val_loss: 0.1203 - val_accuracy: 0.9533\n",
            "Epoch 28/100\n",
            "19/19 [==============================] - 4s 194ms/step - loss: 0.0398 - accuracy: 0.9842 - val_loss: 0.1778 - val_accuracy: 0.9333\n",
            "Epoch 29/100\n",
            "19/19 [==============================] - 4s 194ms/step - loss: 0.0162 - accuracy: 0.9990 - val_loss: 0.1050 - val_accuracy: 0.9400\n",
            "Epoch 30/100\n",
            "19/19 [==============================] - 4s 194ms/step - loss: 0.0276 - accuracy: 0.9904 - val_loss: 0.1282 - val_accuracy: 0.9467\n",
            "Epoch 31/100\n",
            "19/19 [==============================] - 4s 195ms/step - loss: 0.0188 - accuracy: 0.9957 - val_loss: 0.0826 - val_accuracy: 0.9667\n",
            "Epoch 32/100\n",
            "19/19 [==============================] - 4s 195ms/step - loss: 0.0370 - accuracy: 0.9880 - val_loss: 0.0946 - val_accuracy: 0.9600\n",
            "Epoch 33/100\n",
            "19/19 [==============================] - 4s 195ms/step - loss: 0.0159 - accuracy: 0.9962 - val_loss: 0.0990 - val_accuracy: 0.9667\n",
            "Epoch 34/100\n",
            "19/19 [==============================] - 4s 194ms/step - loss: 0.0094 - accuracy: 0.9986 - val_loss: 0.3715 - val_accuracy: 0.8533\n",
            "Epoch 35/100\n",
            "19/19 [==============================] - 4s 196ms/step - loss: 0.0178 - accuracy: 0.9961 - val_loss: 0.2917 - val_accuracy: 0.8733\n",
            "Epoch 36/100\n",
            "19/19 [==============================] - 4s 195ms/step - loss: 0.0069 - accuracy: 0.9991 - val_loss: 0.0891 - val_accuracy: 0.9333\n",
            "Epoch 37/100\n",
            "19/19 [==============================] - 4s 194ms/step - loss: 0.0130 - accuracy: 0.9997 - val_loss: 0.4019 - val_accuracy: 0.8667\n",
            "Epoch 38/100\n",
            "19/19 [==============================] - 4s 194ms/step - loss: 0.0103 - accuracy: 0.9953 - val_loss: 0.0657 - val_accuracy: 0.9800\n",
            "Epoch 39/100\n",
            "19/19 [==============================] - 4s 195ms/step - loss: 0.0129 - accuracy: 0.9983 - val_loss: 0.0625 - val_accuracy: 0.9733\n",
            "Epoch 40/100\n",
            "19/19 [==============================] - 4s 194ms/step - loss: 0.0084 - accuracy: 0.9965 - val_loss: 0.0657 - val_accuracy: 0.9733\n",
            "Epoch 41/100\n",
            "19/19 [==============================] - 4s 194ms/step - loss: 0.0147 - accuracy: 0.9906 - val_loss: 0.3301 - val_accuracy: 0.8667\n",
            "Epoch 42/100\n",
            "19/19 [==============================] - 4s 194ms/step - loss: 0.0111 - accuracy: 0.9952 - val_loss: 0.0835 - val_accuracy: 0.9600\n",
            "Epoch 43/100\n",
            "19/19 [==============================] - 4s 194ms/step - loss: 0.0072 - accuracy: 1.0000 - val_loss: 0.1567 - val_accuracy: 0.9267\n",
            "Epoch 44/100\n",
            "19/19 [==============================] - 4s 196ms/step - loss: 0.0091 - accuracy: 0.9975 - val_loss: 0.0763 - val_accuracy: 0.9733\n",
            "Epoch 45/100\n",
            "19/19 [==============================] - 4s 194ms/step - loss: 0.0044 - accuracy: 0.9988 - val_loss: 0.0641 - val_accuracy: 0.9800\n",
            "Epoch 46/100\n",
            "19/19 [==============================] - 4s 194ms/step - loss: 0.0025 - accuracy: 1.0000 - val_loss: 0.0625 - val_accuracy: 0.9800\n",
            "Epoch 47/100\n",
            "19/19 [==============================] - 4s 196ms/step - loss: 0.0064 - accuracy: 0.9989 - val_loss: 0.0545 - val_accuracy: 0.9733\n",
            "Epoch 48/100\n",
            "19/19 [==============================] - 4s 194ms/step - loss: 0.0088 - accuracy: 0.9976 - val_loss: 0.0647 - val_accuracy: 0.9800\n",
            "Epoch 49/100\n",
            "19/19 [==============================] - 4s 194ms/step - loss: 0.0045 - accuracy: 0.9996 - val_loss: 0.0573 - val_accuracy: 0.9667\n",
            "Epoch 50/100\n",
            "19/19 [==============================] - 4s 196ms/step - loss: 0.0177 - accuracy: 0.9944 - val_loss: 0.6212 - val_accuracy: 0.8200\n",
            "Epoch 51/100\n",
            "19/19 [==============================] - 4s 194ms/step - loss: 0.0355 - accuracy: 0.9835 - val_loss: 0.0820 - val_accuracy: 0.9667\n",
            "Epoch 52/100\n",
            "19/19 [==============================] - 4s 196ms/step - loss: 0.0263 - accuracy: 0.9972 - val_loss: 0.2994 - val_accuracy: 0.8933\n",
            "Epoch 53/100\n",
            "19/19 [==============================] - 4s 194ms/step - loss: 0.0095 - accuracy: 0.9954 - val_loss: 0.3561 - val_accuracy: 0.8600\n",
            "Epoch 54/100\n",
            "19/19 [==============================] - 4s 194ms/step - loss: 0.0180 - accuracy: 0.9929 - val_loss: 0.0920 - val_accuracy: 0.9600\n",
            "Epoch 55/100\n",
            "19/19 [==============================] - 4s 196ms/step - loss: 0.0070 - accuracy: 0.9989 - val_loss: 0.3802 - val_accuracy: 0.8600\n",
            "Epoch 56/100\n",
            "19/19 [==============================] - 4s 195ms/step - loss: 0.0113 - accuracy: 0.9947 - val_loss: 0.2196 - val_accuracy: 0.9267\n",
            "Epoch 57/100\n",
            "19/19 [==============================] - 4s 194ms/step - loss: 0.0074 - accuracy: 0.9991 - val_loss: 0.0743 - val_accuracy: 0.9600\n",
            "Epoch 58/100\n",
            "19/19 [==============================] - 4s 194ms/step - loss: 0.0113 - accuracy: 0.9991 - val_loss: 0.0766 - val_accuracy: 0.9667\n",
            "Epoch 59/100\n",
            "19/19 [==============================] - 4s 194ms/step - loss: 0.0215 - accuracy: 0.9893 - val_loss: 0.1598 - val_accuracy: 0.9333\n",
            "Epoch 60/100\n",
            "19/19 [==============================] - 4s 194ms/step - loss: 0.0043 - accuracy: 1.0000 - val_loss: 0.1693 - val_accuracy: 0.9400\n",
            "Epoch 61/100\n",
            "19/19 [==============================] - 4s 195ms/step - loss: 0.0026 - accuracy: 1.0000 - val_loss: 0.0646 - val_accuracy: 0.9733\n",
            "Epoch 62/100\n",
            "19/19 [==============================] - 4s 194ms/step - loss: 0.0030 - accuracy: 0.9982 - val_loss: 0.0622 - val_accuracy: 0.9533\n",
            "Epoch 63/100\n",
            "19/19 [==============================] - 4s 194ms/step - loss: 0.0019 - accuracy: 1.0000 - val_loss: 0.0718 - val_accuracy: 0.9800\n",
            "Epoch 64/100\n",
            "19/19 [==============================] - 4s 195ms/step - loss: 0.0050 - accuracy: 0.9982 - val_loss: 0.0612 - val_accuracy: 0.9533\n",
            "Epoch 65/100\n",
            "19/19 [==============================] - 4s 195ms/step - loss: 0.0050 - accuracy: 0.9976 - val_loss: 0.0801 - val_accuracy: 0.9733\n",
            "Epoch 66/100\n",
            "19/19 [==============================] - 4s 195ms/step - loss: 0.0027 - accuracy: 0.9995 - val_loss: 0.0734 - val_accuracy: 0.9800\n",
            "Epoch 67/100\n",
            "19/19 [==============================] - 4s 196ms/step - loss: 0.0041 - accuracy: 1.0000 - val_loss: 0.0572 - val_accuracy: 0.9800\n",
            "Epoch 68/100\n",
            "19/19 [==============================] - 4s 194ms/step - loss: 0.0021 - accuracy: 0.9997 - val_loss: 0.0633 - val_accuracy: 0.9733\n",
            "Epoch 69/100\n",
            "19/19 [==============================] - 4s 195ms/step - loss: 0.0081 - accuracy: 0.9976 - val_loss: 0.0596 - val_accuracy: 0.9733\n",
            "Epoch 70/100\n",
            "19/19 [==============================] - 4s 196ms/step - loss: 0.0022 - accuracy: 1.0000 - val_loss: 0.0544 - val_accuracy: 0.9733\n",
            "Epoch 71/100\n",
            "19/19 [==============================] - 4s 194ms/step - loss: 0.0025 - accuracy: 1.0000 - val_loss: 0.0657 - val_accuracy: 0.9600\n",
            "Epoch 72/100\n",
            "19/19 [==============================] - 4s 194ms/step - loss: 0.0016 - accuracy: 1.0000 - val_loss: 0.0710 - val_accuracy: 0.9600\n",
            "Epoch 73/100\n",
            "19/19 [==============================] - 4s 196ms/step - loss: 0.0014 - accuracy: 0.9993 - val_loss: 0.0644 - val_accuracy: 0.9800\n",
            "Epoch 74/100\n",
            "19/19 [==============================] - 4s 196ms/step - loss: 0.0058 - accuracy: 0.9955 - val_loss: 0.0694 - val_accuracy: 0.9800\n",
            "Epoch 75/100\n",
            "19/19 [==============================] - 4s 194ms/step - loss: 0.0115 - accuracy: 0.9953 - val_loss: 3.6766 - val_accuracy: 0.5200\n",
            "Epoch 76/100\n",
            "19/19 [==============================] - 4s 196ms/step - loss: 0.0175 - accuracy: 0.9891 - val_loss: 0.3914 - val_accuracy: 0.8667\n",
            "Epoch 77/100\n",
            "19/19 [==============================] - 4s 195ms/step - loss: 0.0032 - accuracy: 1.0000 - val_loss: 0.3415 - val_accuracy: 0.8867\n",
            "Epoch 78/100\n",
            "19/19 [==============================] - 4s 196ms/step - loss: 0.0026 - accuracy: 1.0000 - val_loss: 0.1143 - val_accuracy: 0.9267\n",
            "Epoch 79/100\n",
            "19/19 [==============================] - 4s 196ms/step - loss: 0.0018 - accuracy: 1.0000 - val_loss: 0.2766 - val_accuracy: 0.9133\n",
            "Epoch 80/100\n",
            "19/19 [==============================] - 4s 196ms/step - loss: 0.0027 - accuracy: 1.0000 - val_loss: 0.0872 - val_accuracy: 0.9667\n",
            "Epoch 81/100\n",
            "19/19 [==============================] - 4s 198ms/step - loss: 0.0021 - accuracy: 1.0000 - val_loss: 0.1187 - val_accuracy: 0.9600\n",
            "Epoch 82/100\n",
            "19/19 [==============================] - 4s 197ms/step - loss: 0.0027 - accuracy: 1.0000 - val_loss: 0.1317 - val_accuracy: 0.9467\n",
            "Epoch 83/100\n",
            "19/19 [==============================] - 4s 195ms/step - loss: 0.0014 - accuracy: 1.0000 - val_loss: 0.0580 - val_accuracy: 0.9733\n",
            "Epoch 84/100\n",
            "19/19 [==============================] - 4s 196ms/step - loss: 6.8685e-04 - accuracy: 1.0000 - val_loss: 0.0900 - val_accuracy: 0.9600\n",
            "Epoch 85/100\n",
            "19/19 [==============================] - 4s 195ms/step - loss: 7.9646e-04 - accuracy: 1.0000 - val_loss: 0.0617 - val_accuracy: 0.9600\n",
            "Epoch 86/100\n",
            "19/19 [==============================] - 4s 196ms/step - loss: 4.8126e-04 - accuracy: 1.0000 - val_loss: 0.0493 - val_accuracy: 0.9800\n",
            "Epoch 87/100\n",
            "19/19 [==============================] - 4s 197ms/step - loss: 8.5478e-04 - accuracy: 1.0000 - val_loss: 0.0557 - val_accuracy: 0.9733\n",
            "Epoch 88/100\n",
            "19/19 [==============================] - 4s 196ms/step - loss: 5.7578e-04 - accuracy: 1.0000 - val_loss: 0.0592 - val_accuracy: 0.9600\n",
            "Epoch 89/100\n",
            "19/19 [==============================] - 4s 195ms/step - loss: 4.7761e-04 - accuracy: 1.0000 - val_loss: 0.0539 - val_accuracy: 0.9733\n",
            "Epoch 90/100\n",
            "19/19 [==============================] - 4s 196ms/step - loss: 3.5844e-04 - accuracy: 1.0000 - val_loss: 0.0463 - val_accuracy: 0.9800\n",
            "Epoch 91/100\n",
            "19/19 [==============================] - 4s 195ms/step - loss: 5.8246e-04 - accuracy: 1.0000 - val_loss: 0.0611 - val_accuracy: 0.9600\n",
            "Epoch 92/100\n",
            "19/19 [==============================] - 4s 194ms/step - loss: 4.4373e-04 - accuracy: 1.0000 - val_loss: 0.0510 - val_accuracy: 0.9800\n",
            "Epoch 93/100\n",
            "19/19 [==============================] - 4s 196ms/step - loss: 4.6723e-04 - accuracy: 1.0000 - val_loss: 0.0448 - val_accuracy: 0.9800\n",
            "Epoch 94/100\n",
            "19/19 [==============================] - 4s 195ms/step - loss: 5.0027e-04 - accuracy: 1.0000 - val_loss: 0.0470 - val_accuracy: 0.9800\n",
            "Epoch 95/100\n",
            "19/19 [==============================] - 4s 194ms/step - loss: 6.0482e-04 - accuracy: 1.0000 - val_loss: 0.0474 - val_accuracy: 0.9867\n",
            "Epoch 96/100\n",
            "19/19 [==============================] - 4s 198ms/step - loss: 6.2370e-04 - accuracy: 1.0000 - val_loss: 0.0474 - val_accuracy: 0.9800\n",
            "Epoch 97/100\n",
            "19/19 [==============================] - 4s 196ms/step - loss: 4.5238e-04 - accuracy: 1.0000 - val_loss: 0.0470 - val_accuracy: 0.9800\n",
            "Epoch 98/100\n",
            "19/19 [==============================] - 4s 196ms/step - loss: 3.7908e-04 - accuracy: 1.0000 - val_loss: 0.0467 - val_accuracy: 0.9800\n",
            "Epoch 99/100\n",
            "19/19 [==============================] - 4s 194ms/step - loss: 3.5829e-04 - accuracy: 1.0000 - val_loss: 0.0443 - val_accuracy: 0.9867\n",
            "Epoch 100/100\n",
            "19/19 [==============================] - 4s 195ms/step - loss: 4.9976e-04 - accuracy: 1.0000 - val_loss: 0.0452 - val_accuracy: 0.9867\n"
          ],
          "name": "stdout"
        },
        {
          "output_type": "execute_result",
          "data": {
            "text/plain": [
              "<tensorflow.python.keras.callbacks.History at 0x7f1399465590>"
            ]
          },
          "metadata": {
            "tags": []
          },
          "execution_count": 32
        }
      ]
    },
    {
      "cell_type": "code",
      "metadata": {
        "id": "TvhQLWrQRFSF"
      },
      "source": [
        "img_path = 'my_image.jpg'\n",
        "### END CODE HERE ###\n",
        "img = image.load_img(img_path, target_size=(64, 64))\n",
        "imshow(img)\n",
        "\n",
        "x = image.img_to_array(img)\n",
        "x = np.expand_dims(x, axis=0)\n",
        "x = preprocess_input(x)\n",
        "\n",
        "print(moodel.predict(x))"
      ],
      "execution_count": null,
      "outputs": []
    },
    {
      "cell_type": "code",
      "metadata": {
        "id": "HrmTcUbmMseK"
      },
      "source": [
        ""
      ],
      "execution_count": 36,
      "outputs": []
    },
    {
      "cell_type": "code",
      "metadata": {
        "id": "-2oq6oa8RF7v"
      },
      "source": [
        "model.save(\"model.h5\")"
      ],
      "execution_count": 35,
      "outputs": []
    },
    {
      "cell_type": "code",
      "metadata": {
        "id": "pwd4iV4ARYGj"
      },
      "source": [
        ""
      ],
      "execution_count": null,
      "outputs": []
    }
  ]
}